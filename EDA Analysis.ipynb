{
 "cells": [
  {
   "cell_type": "code",
   "execution_count": 4,
   "id": "bcf4c3db",
   "metadata": {},
   "outputs": [
    {
     "data": {
      "text/html": [
       "<div>\n",
       "<style scoped>\n",
       "    .dataframe tbody tr th:only-of-type {\n",
       "        vertical-align: middle;\n",
       "    }\n",
       "\n",
       "    .dataframe tbody tr th {\n",
       "        vertical-align: top;\n",
       "    }\n",
       "\n",
       "    .dataframe thead th {\n",
       "        text-align: right;\n",
       "    }\n",
       "</style>\n",
       "<table border=\"1\" class=\"dataframe\">\n",
       "  <thead>\n",
       "    <tr style=\"text-align: right;\">\n",
       "      <th></th>\n",
       "      <th>Actual Defective</th>\n",
       "      <th>Actual NotDefective</th>\n",
       "    </tr>\n",
       "  </thead>\n",
       "  <tbody>\n",
       "    <tr>\n",
       "      <th>Model Defective</th>\n",
       "      <td>999</td>\n",
       "      <td>0</td>\n",
       "    </tr>\n",
       "    <tr>\n",
       "      <th>Model NotDefective</th>\n",
       "      <td>0</td>\n",
       "      <td>4001</td>\n",
       "    </tr>\n",
       "  </tbody>\n",
       "</table>\n",
       "</div>"
      ],
      "text/plain": [
       "                    Actual Defective  Actual NotDefective\n",
       "Model Defective                  999                    0\n",
       "Model NotDefective                 0                 4001"
      ]
     },
     "execution_count": 4,
     "metadata": {},
     "output_type": "execute_result"
    }
   ],
   "source": [
    "import pandas as pd\n",
    "df=pd.DataFrame([[999,0],[0,4001]],columns=['Actual Defective','Actual NotDefective'],index=['Model Defective','Model NotDefective'])\n",
    "df"
   ]
  },
  {
   "cell_type": "code",
   "execution_count": 5,
   "id": "94ab395e",
   "metadata": {},
   "outputs": [
    {
     "data": {
      "text/html": [
       "<div>\n",
       "<style scoped>\n",
       "    .dataframe tbody tr th:only-of-type {\n",
       "        vertical-align: middle;\n",
       "    }\n",
       "\n",
       "    .dataframe tbody tr th {\n",
       "        vertical-align: top;\n",
       "    }\n",
       "\n",
       "    .dataframe thead th {\n",
       "        text-align: right;\n",
       "    }\n",
       "</style>\n",
       "<table border=\"1\" class=\"dataframe\">\n",
       "  <thead>\n",
       "    <tr style=\"text-align: right;\">\n",
       "      <th></th>\n",
       "      <th>Actual Defective</th>\n",
       "      <th>Actual NotDefective</th>\n",
       "    </tr>\n",
       "  </thead>\n",
       "  <tbody>\n",
       "    <tr>\n",
       "      <th>Model Defective</th>\n",
       "      <td>800</td>\n",
       "      <td>515</td>\n",
       "    </tr>\n",
       "    <tr>\n",
       "      <th>Model NotDefective</th>\n",
       "      <td>199</td>\n",
       "      <td>3486</td>\n",
       "    </tr>\n",
       "  </tbody>\n",
       "</table>\n",
       "</div>"
      ],
      "text/plain": [
       "                    Actual Defective  Actual NotDefective\n",
       "Model Defective                  800                  515\n",
       "Model NotDefective               199                 3486"
      ]
     },
     "execution_count": 5,
     "metadata": {},
     "output_type": "execute_result"
    }
   ],
   "source": [
    "k=pd.DataFrame([[800,515],[199,3486]],columns=['Actual Defective','Actual NotDefective'],index=['Model Defective','Model NotDefective'])\n",
    "k"
   ]
  },
  {
   "cell_type": "code",
   "execution_count": 6,
   "id": "b1510eea",
   "metadata": {},
   "outputs": [
    {
     "name": "stdout",
     "output_type": "stream",
     "text": [
      "confusion matrix values are:TN=800, FP=515, FN=199, TP=3486\n"
     ]
    }
   ],
   "source": [
    "print('confusion matrix values are:TN=800, FP=515, FN=199, TP=3486')"
   ]
  },
  {
   "cell_type": "markdown",
   "id": "976a6826",
   "metadata": {},
   "source": [
    "## After populating the confusion matrix, define a function that calculate precision, recall, specificity, negative predicted\n",
    "## value, true positive rate, false positive rate, average, accuracy, F1 score and Fβ score \n",
    "## (assume β = 0.3, try to change your β from 0 to 1 and report your result). \n",
    "## Do not create multiple function file. Submit a consolidate one function file.\n",
    "\n"
   ]
  },
  {
   "cell_type": "code",
   "execution_count": 11,
   "id": "57f0398c",
   "metadata": {},
   "outputs": [
    {
     "name": "stdout",
     "output_type": "stream",
     "text": [
      "confusion matrix values are:TN=800, FP=515, FN=199, TP=3486\n"
     ]
    }
   ],
   "source": [
    "print('confusion matrix values are:TN=800, FP=515, FN=199, TP=3486')"
   ]
  },
  {
   "cell_type": "code",
   "execution_count": 8,
   "id": "197473e5",
   "metadata": {},
   "outputs": [],
   "source": [
    "def Confusion_matrix(TN,FP,FN,TP):\n",
    "    Precision=TP/(TP+FP)\n",
    "    print('Precision :',Precision)\n",
    "    Recall=TP/(TP+FN)\n",
    "    print('Recall :',Recall)\n",
    "    Specificity=TN/(TN+FP)\n",
    "    print('Specificity :',Specificity)\n",
    "    Negative_predictive_value=TN/(TN+FN)\n",
    "    print('Negative_predictive_value :',Negative_predictive_value)\n",
    "    True_positive_rate=TP/(TP+FN)\n",
    "    print('True_positive_rate :',True_positive_rate)\n",
    "    False_positive_rate=FP/(FP+TN)\n",
    "    print('False_positive_rate :',False_positive_rate)\n",
    "    Accuracy=(TP+TN)/(TP+FP+FN+TN)\n",
    "    print('Accuracy :',Accuracy)\n",
    "    F1_Score=2*((Precision*Recall)/(Precision+Recall))\n",
    "    print('F1_Score :',F1_Score)\n"
   ]
  },
  {
   "cell_type": "code",
   "execution_count": 9,
   "id": "49a9353a",
   "metadata": {},
   "outputs": [
    {
     "name": "stdout",
     "output_type": "stream",
     "text": [
      "Precision : 0.8712821794551362\n",
      "Recall : 0.9459972862957937\n",
      "Specificity : 0.6083650190114068\n",
      "Negative_predictive_value : 0.8008008008008008\n",
      "True_positive_rate : 0.9459972862957937\n",
      "False_positive_rate : 0.3916349809885932\n",
      "Accuracy : 0.8572\n",
      "F1_Score : 0.9071038251366119\n"
     ]
    }
   ],
   "source": [
    "Confusion_matrix(800,515,199,3486)"
   ]
  },
  {
   "cell_type": "code",
   "execution_count": 10,
   "id": "78d9469a",
   "metadata": {},
   "outputs": [
    {
     "name": "stdout",
     "output_type": "stream",
     "text": [
      "Fβ_Score(0.3) : 0.877001373293481\n",
      "Fβ_Score(0) : 0.8712821794551361\n",
      "Fβ_Score(0.1) : 0.8719640402689549\n",
      "Fβ_Score(0.2) : 0.8739369395429563\n",
      "Fβ_Score(0.3) : 0.877001373293481\n",
      "Fβ_Score(0.4) : 0.8808783165599268\n",
      "Fβ_Score(0.5) : 0.8852658845040378\n",
      "Fβ_Score(0.6) : 0.8898866281252344\n",
      "Fβ_Score(0.7) : 0.8945157707111674\n",
      "Fβ_Score(0.8) : 0.898990470799132\n",
      "Fβ_Score(0.9) : 0.9032057659411524\n",
      "Fβ_Score(1) : 0.9071038251366119\n"
     ]
    },
    {
     "data": {
      "text/plain": [
       "'The values lies between 0.8 to 0.9 and also the values of beta gradually increasing for every 0.1'"
      ]
     },
     "execution_count": 10,
     "metadata": {},
     "output_type": "execute_result"
    }
   ],
   "source": [
    "TN=800\n",
    "FP=515\n",
    "FN=199\n",
    "TP=3486\n",
    "def Fβ_Score(β):\n",
    "    Precision=TP/(TP+FP)\n",
    "    Recall=TP/(TP+FN)\n",
    "    return (1+β**2)*((Precision*Recall)/((Precision*(β**2))+Recall))\n",
    "print('Fβ_Score(0.3) :',Fβ_Score(0.3))\n",
    "print('Fβ_Score(0) :',Fβ_Score(0))\n",
    "print('Fβ_Score(0.1) :',Fβ_Score(0.1))\n",
    "print('Fβ_Score(0.2) :',Fβ_Score(0.2))\n",
    "print('Fβ_Score(0.3) :',Fβ_Score(0.3))\n",
    "print('Fβ_Score(0.4) :',Fβ_Score(0.4))\n",
    "print('Fβ_Score(0.5) :',Fβ_Score(0.5))\n",
    "print('Fβ_Score(0.6) :',Fβ_Score(0.6))\n",
    "print('Fβ_Score(0.7) :',Fβ_Score(0.7))\n",
    "print('Fβ_Score(0.8) :',Fβ_Score(0.8))\n",
    "print('Fβ_Score(0.9) :',Fβ_Score(0.9))\n",
    "print('Fβ_Score(1) :',Fβ_Score(1))\n",
    "'''The values lies between 0.8 to 0.9 and also the values of beta gradually increasing for every 0.1'''"
   ]
  },
  {
   "cell_type": "code",
   "execution_count": null,
   "id": "7ef530c4",
   "metadata": {},
   "outputs": [],
   "source": []
  }
 ],
 "metadata": {
  "kernelspec": {
   "display_name": "Python 3 (ipykernel)",
   "language": "python",
   "name": "python3"
  },
  "language_info": {
   "codemirror_mode": {
    "name": "ipython",
    "version": 3
   },
   "file_extension": ".py",
   "mimetype": "text/x-python",
   "name": "python",
   "nbconvert_exporter": "python",
   "pygments_lexer": "ipython3",
   "version": "3.9.7"
  }
 },
 "nbformat": 4,
 "nbformat_minor": 5
}
